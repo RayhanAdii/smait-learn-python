{
  "nbformat": 4,
  "nbformat_minor": 0,
  "metadata": {
    "colab": {
      "provenance": []
    },
    "kernelspec": {
      "name": "python3",
      "display_name": "Python 3"
    },
    "language_info": {
      "name": "python"
    }
  },
  "cells": [
    {
      "cell_type": "markdown",
      "source": [
        "Agenda utama: Membuat program untuk menghitung luas bangun datar\n",
        "\n",
        "Fitur:\n",
        "- Lingkaran\n",
        "- Segitiga\n",
        "- Persegi panjang\n",
        "\n",
        "Sub agenda:\n",
        "1. Flowchart\n",
        "2. Buat programnya (tanpa function)\n",
        "3. Ubah programnya ke pendekatan berbasis function"
      ],
      "metadata": {
        "id": "odOkZtvtuaxu"
      }
    },
    {
      "cell_type": "markdown",
      "source": [
        "## 1. Flowchart\n",
        "\n",
        "- Flow: Alir\n",
        "- Chart: Diagram\n",
        "\n"
      ],
      "metadata": {
        "id": "Hf6U5DoJvCAy"
      }
    },
    {
      "cell_type": "code",
      "source": [
        "# Untuk yg pakai visual studio / local / apapun lah yg .py\n",
        "import os\n",
        "\n",
        "#Code untuk mereset terminal\n",
        "os.system('cls')"
      ],
      "metadata": {
        "id": "8PbBznfX5f5m"
      },
      "execution_count": null,
      "outputs": []
    },
    {
      "cell_type": "code",
      "source": [
        "ng"
      ],
      "metadata": {
        "id": "hmArcPc4ykvX"
      },
      "execution_count": null,
      "outputs": []
    },
    {
      "cell_type": "code",
      "execution_count": 4,
      "metadata": {
        "colab": {
          "base_uri": "https://localhost:8080/",
          "height": 612
        },
        "id": "4kNf1Ds-uMeW",
        "outputId": "cc863fe0-e4fc-47f5-db62-f01c4bc5ccc3"
      },
      "outputs": [
        {
          "output_type": "stream",
          "name": "stdout",
          "text": [
            "PROGRAM MENGHITUNG LUAS BANGUN DATAR\n",
            "====================================\n",
            "\n",
            "Silahkan pilih bangun datar yang akan dihitung luasnya\n",
            "1. Rectangle\n",
            "2. Triangle\n",
            "3. Circle\n",
            "\n",
            "Bangun datar yang akan dihitung: Circle\n",
            "Masukkan Jari Jari Circle: 7\n",
            "Luas Circle adalah: 153.86\n"
          ]
        },
        {
          "output_type": "error",
          "ename": "KeyboardInterrupt",
          "evalue": "ignored",
          "traceback": [
            "\u001b[0;31m---------------------------------------------------------------------------\u001b[0m",
            "\u001b[0;31mKeyboardInterrupt\u001b[0m                         Traceback (most recent call last)",
            "\u001b[0;32m<ipython-input-4-2402dae99d21>\u001b[0m in \u001b[0;36m<cell line: 8>\u001b[0;34m()\u001b[0m\n\u001b[1;32m     41\u001b[0m \u001b[0;34m\u001b[0m\u001b[0m\n\u001b[1;32m     42\u001b[0m   \u001b[0;31m# is finish\u001b[0m\u001b[0;34m\u001b[0m\u001b[0;34m\u001b[0m\u001b[0m\n\u001b[0;32m---> 43\u001b[0;31m   \u001b[0mis_lanjut\u001b[0m \u001b[0;34m=\u001b[0m \u001b[0minput\u001b[0m\u001b[0;34m(\u001b[0m\u001b[0;34m\"Lanjut menghitung? (Y/N)\"\u001b[0m\u001b[0;34m)\u001b[0m\u001b[0;34m\u001b[0m\u001b[0;34m\u001b[0m\u001b[0m\n\u001b[0m\u001b[1;32m     44\u001b[0m   \u001b[0;32mif\u001b[0m\u001b[0;34m(\u001b[0m\u001b[0mis_lanjut\u001b[0m \u001b[0;34m==\u001b[0m \u001b[0;34m\"Y\"\u001b[0m\u001b[0;34m)\u001b[0m\u001b[0;34m:\u001b[0m\u001b[0;34m\u001b[0m\u001b[0;34m\u001b[0m\u001b[0m\n\u001b[1;32m     45\u001b[0m     \u001b[0mclear_output\u001b[0m\u001b[0;34m(\u001b[0m\u001b[0mwait\u001b[0m\u001b[0;34m=\u001b[0m\u001b[0;32mTrue\u001b[0m\u001b[0;34m)\u001b[0m \u001b[0;31m#Sesuaikan dengan tool yg dipake\u001b[0m\u001b[0;34m\u001b[0m\u001b[0;34m\u001b[0m\u001b[0m\n",
            "\u001b[0;32m/usr/local/lib/python3.10/dist-packages/ipykernel/kernelbase.py\u001b[0m in \u001b[0;36mraw_input\u001b[0;34m(self, prompt)\u001b[0m\n\u001b[1;32m    849\u001b[0m                 \u001b[0;34m\"raw_input was called, but this frontend does not support input requests.\"\u001b[0m\u001b[0;34m\u001b[0m\u001b[0;34m\u001b[0m\u001b[0m\n\u001b[1;32m    850\u001b[0m             )\n\u001b[0;32m--> 851\u001b[0;31m         return self._input_request(str(prompt),\n\u001b[0m\u001b[1;32m    852\u001b[0m             \u001b[0mself\u001b[0m\u001b[0;34m.\u001b[0m\u001b[0m_parent_ident\u001b[0m\u001b[0;34m,\u001b[0m\u001b[0;34m\u001b[0m\u001b[0;34m\u001b[0m\u001b[0m\n\u001b[1;32m    853\u001b[0m             \u001b[0mself\u001b[0m\u001b[0;34m.\u001b[0m\u001b[0m_parent_header\u001b[0m\u001b[0;34m,\u001b[0m\u001b[0;34m\u001b[0m\u001b[0;34m\u001b[0m\u001b[0m\n",
            "\u001b[0;32m/usr/local/lib/python3.10/dist-packages/ipykernel/kernelbase.py\u001b[0m in \u001b[0;36m_input_request\u001b[0;34m(self, prompt, ident, parent, password)\u001b[0m\n\u001b[1;32m    893\u001b[0m             \u001b[0;32mexcept\u001b[0m \u001b[0mKeyboardInterrupt\u001b[0m\u001b[0;34m:\u001b[0m\u001b[0;34m\u001b[0m\u001b[0;34m\u001b[0m\u001b[0m\n\u001b[1;32m    894\u001b[0m                 \u001b[0;31m# re-raise KeyboardInterrupt, to truncate traceback\u001b[0m\u001b[0;34m\u001b[0m\u001b[0;34m\u001b[0m\u001b[0m\n\u001b[0;32m--> 895\u001b[0;31m                 \u001b[0;32mraise\u001b[0m \u001b[0mKeyboardInterrupt\u001b[0m\u001b[0;34m(\u001b[0m\u001b[0;34m\"Interrupted by user\"\u001b[0m\u001b[0;34m)\u001b[0m \u001b[0;32mfrom\u001b[0m \u001b[0;32mNone\u001b[0m\u001b[0;34m\u001b[0m\u001b[0;34m\u001b[0m\u001b[0m\n\u001b[0m\u001b[1;32m    896\u001b[0m             \u001b[0;32mexcept\u001b[0m \u001b[0mException\u001b[0m \u001b[0;32mas\u001b[0m \u001b[0me\u001b[0m\u001b[0;34m:\u001b[0m\u001b[0;34m\u001b[0m\u001b[0;34m\u001b[0m\u001b[0m\n\u001b[1;32m    897\u001b[0m                 \u001b[0mself\u001b[0m\u001b[0;34m.\u001b[0m\u001b[0mlog\u001b[0m\u001b[0;34m.\u001b[0m\u001b[0mwarning\u001b[0m\u001b[0;34m(\u001b[0m\u001b[0;34m\"Invalid Message:\"\u001b[0m\u001b[0;34m,\u001b[0m \u001b[0mexc_info\u001b[0m\u001b[0;34m=\u001b[0m\u001b[0;32mTrue\u001b[0m\u001b[0;34m)\u001b[0m\u001b[0;34m\u001b[0m\u001b[0;34m\u001b[0m\u001b[0m\n",
            "\u001b[0;31mKeyboardInterrupt\u001b[0m: Interrupted by user"
          ]
        }
      ],
      "source": [
        "# Program\n",
        "\n",
        "#Untuk yg pakai google colab\n",
        "from IPython.display import clear_output\n",
        "\n",
        "finish = False\n",
        "\n",
        "while(finish == False):\n",
        "  # Mencetak Menu\n",
        "  print(\"PROGRAM MENGHITUNG LUAS BANGUN DATAR\")\n",
        "  print(\"====================================\\n\")\n",
        "  print(\"Silahkan pilih bangun datar yang akan dihitung luasnya\")\n",
        "  print(\"1. Rectangle\")\n",
        "  print(\"2. Triangle\")\n",
        "  print(\"3. Circle\\n\")\n",
        "\n",
        "  # Mengambil input bangun datar yang akan dihitung\n",
        "  bangun_datar = input(\"Bangun datar yang akan dihitung: \")\n",
        "\n",
        "  # Percabangan\n",
        "  if(bangun_datar == \"Rectangle\"):\n",
        "    panjang = float(input(\"Masukkan Panjang Rectangle: \"))\n",
        "    lebar = float(input(\"Masukkan Lebar Rectangle: \"))\n",
        "    luas = panjang * lebar\n",
        "    print(f\"Luas Rectangle adalah: {luas}\")\n",
        "\n",
        "  elif(bangun_datar == \"Triangle\"):\n",
        "    alas = float(input(\"Masukkan Alas Triangle: \"))\n",
        "    tinggi = float(input(\"Masukkan Tinggi Triangle: \"))\n",
        "    luas = 0.5 * alas * tinggi\n",
        "    print(f\"Luas Triangle adalah: {luas}\")\n",
        "\n",
        "  elif(bangun_datar == \"Circle\"):\n",
        "    jari_jari = float(input(\"Masukkan Jari Jari Circle: \"))\n",
        "    luas = 3.14 * jari_jari**2\n",
        "    print(f\"Luas Circle adalah: {luas}\")\n",
        "  else:\n",
        "    print(\"Masukkan bangun datar yang benar\")\n",
        "\n",
        "\n",
        "\n",
        "  # is finish\n",
        "  is_lanjut = input(\"Lanjut menghitung? (Y/N)\")\n",
        "  if(is_lanjut == \"Y\"):\n",
        "    clear_output(wait=True) #Sesuaikan dengan tool yg dipake\n",
        "    continue\n",
        "  elif (is_lanjut == \"N\"):\n",
        "    finish = True"
      ]
    },
    {
      "cell_type": "code",
      "source": [
        "# Program\n",
        "\n",
        "#Untuk yg pakai google colab\n",
        "from IPython.display import clear_output\n",
        "\n",
        "def print_menu():\n",
        "  # Mencetak Menu\n",
        "  print(\"PROGRAM MENGHITUNG LUAS BANGUN DATAR\")\n",
        "  print(\"====================================\\n\")\n",
        "  print(\"Silahkan pilih bangun datar yang akan dihitung luasnya\")\n",
        "  print(\"1. Rectangle\")\n",
        "  print(\"2. Triangle\")\n",
        "  print(\"3. Circle\\n\")\n",
        "\n",
        "def print_luas(bangun_datar, luas):\n",
        "  print(f\"Luas {bangun_datar} adalah: {luas}\")\n",
        "\n",
        "def hitung_luas_rectangle():\n",
        "  panjang = float(input(\"Masukkan Panjang Rectangle: \"))\n",
        "  lebar = float(input(\"Masukkan Lebar Rectangle: \"))\n",
        "  luas = panjang * lebar\n",
        "  return luas\n",
        "\n",
        "def hitung_luas_triangle():\n",
        "  alas = float(input(\"Masukkan Alas Triangle: \"))\n",
        "  tinggi = float(input(\"Masukkan Tinggi Triangle: \"))\n",
        "  luas = 0.5 * alas * tinggi\n",
        "  return luas\n",
        "\n",
        "def hitung_luas_circle():\n",
        "  jari_jari = float(input(\"Masukkan Jari Jari Circle: \"))\n",
        "  luas = 3.14 * jari_jari**2\n",
        "  return luas\n",
        "\n",
        "\n",
        "finish = False\n",
        "\n",
        "while(finish == False):\n",
        "\n",
        "  #Print Menu\n",
        "  print_menu()\n",
        "\n",
        "  # Mengambil input bangun datar yang akan dihitung\n",
        "  bangun_datar = input(\"Bangun datar yang akan dihitung: \")\n",
        "\n",
        "  # Percabangan\n",
        "  if(bangun_datar == \"Rectangle\"):\n",
        "    luas = hitung_luas_rectangle()\n",
        "    print_luas(bangun_datar, luas)\n",
        "\n",
        "  elif(bangun_datar == \"Triangle\"):\n",
        "    luas = hitung_luas_triangle()\n",
        "    print_luas(bangun_datar, luas)\n",
        "\n",
        "  elif(bangun_datar == \"Circle\"):\n",
        "    luas = hitung_luas_circle()\n",
        "    print_luas(bangun_datar, luas)\n",
        "  else:\n",
        "    print(\"Masukkan bangun datar yang benar\")\n",
        "\n",
        "  # is finish\n",
        "  is_lanjut = input(\"Lanjut menghitung? (Y/N)\")\n",
        "  if(is_lanjut == \"Y\"):\n",
        "    clear_output(wait=True) #Sesuaikan dengan tool yg dipake\n",
        "    continue\n",
        "  elif (is_lanjut == \"N\"):\n",
        "    finish = True"
      ],
      "metadata": {
        "colab": {
          "base_uri": "https://localhost:8080/"
        },
        "id": "zGqklxbw3v7P",
        "outputId": "672ec32c-ddea-473b-f24e-b8b56e94207e"
      },
      "execution_count": 6,
      "outputs": [
        {
          "name": "stdout",
          "output_type": "stream",
          "text": [
            "PROGRAM MENGHITUNG LUAS BANGUN DATAR\n",
            "====================================\n",
            "\n",
            "Silahkan pilih bangun datar yang akan dihitung luasnya\n",
            "1. Rectangle\n",
            "2. Triangle\n",
            "3. Circle\n",
            "\n",
            "Bangun datar yang akan dihitung: Triangle\n",
            "Masukkan Alas Triangle: 10\n",
            "Masukkan Tinggi Triangle: 12\n",
            "Luas Triangle adalah: 60.0\n",
            "Lanjut menghitung? (Y/N)N\n"
          ]
        }
      ]
    }
  ]
}