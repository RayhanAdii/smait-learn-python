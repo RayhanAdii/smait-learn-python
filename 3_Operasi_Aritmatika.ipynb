{
  "nbformat": 4,
  "nbformat_minor": 0,
  "metadata": {
    "colab": {
      "provenance": []
    },
    "kernelspec": {
      "name": "python3",
      "display_name": "Python 3"
    },
    "language_info": {
      "name": "python"
    }
  },
  "cells": [
    {
      "cell_type": "code",
      "execution_count": null,
      "metadata": {
        "colab": {
          "base_uri": "https://localhost:8080/"
        },
        "id": "_2FTtohmWGZi",
        "outputId": "82f15b61-2b95-41a4-d8f8-a81a6165bd66"
      },
      "outputs": [
        {
          "output_type": "stream",
          "name": "stdout",
          "text": [
            "apel\n",
            "10000\n"
          ]
        }
      ],
      "source": [
        "# Tipe Data String\n",
        "nama_buah = 'apel'\n",
        "\n",
        "# Tipe Data Integer (Bilangan Bulat)\n",
        "harga_buah = 10000\n",
        "\n",
        "# Tipe Data Float (Bilangan Pecahan)\n",
        "berat_buah = 5.5\n",
        "\n",
        "# Tipe Data Boolean (True or False)\n",
        "apakah_buah_matang = True\n",
        "\n",
        "print(nama_buah)\n",
        "print(harga_buah)"
      ]
    },
    {
      "cell_type": "code",
      "source": [],
      "metadata": {
        "id": "GRaRD1_Gbj6J"
      },
      "execution_count": null,
      "outputs": []
    },
    {
      "cell_type": "code",
      "source": [
        "# Mengambil Input dari User\n",
        "nama_hewan = input('Masukkan Nama Hewan: ')\n",
        "jumlah_hewan = int(input('Masukkan Jumlah Hewan: '))\n",
        "berat_hewan = float(input('Masukkan Berat Total Hewan:'))\n",
        "apakah_hewan_makan_rumput = bool(input('Apakah Hewan Makan Rumput?'))"
      ],
      "metadata": {
        "colab": {
          "base_uri": "https://localhost:8080/",
          "height": 269
        },
        "id": "ZDsRYshyYo4d",
        "outputId": "1432be3b-b9bc-4226-96f8-d740b2f069b9"
      },
      "execution_count": null,
      "outputs": [
        {
          "name": "stdout",
          "output_type": "stream",
          "text": [
            "Masukkan Nama Hewan: Sapi\n",
            "Masukkan Jumlah Hewan: Ya\n"
          ]
        },
        {
          "output_type": "error",
          "ename": "ValueError",
          "evalue": "ignored",
          "traceback": [
            "\u001b[0;31m---------------------------------------------------------------------------\u001b[0m",
            "\u001b[0;31mValueError\u001b[0m                                Traceback (most recent call last)",
            "\u001b[0;32m<ipython-input-13-ca3c40d8e594>\u001b[0m in \u001b[0;36m<cell line: 2>\u001b[0;34m()\u001b[0m\n\u001b[1;32m      1\u001b[0m \u001b[0mnama_hewan\u001b[0m \u001b[0;34m=\u001b[0m \u001b[0minput\u001b[0m\u001b[0;34m(\u001b[0m\u001b[0;34m'Masukkan Nama Hewan: '\u001b[0m\u001b[0;34m)\u001b[0m\u001b[0;34m\u001b[0m\u001b[0;34m\u001b[0m\u001b[0m\n\u001b[0;32m----> 2\u001b[0;31m \u001b[0mjumlah_hewan\u001b[0m \u001b[0;34m=\u001b[0m \u001b[0mint\u001b[0m\u001b[0;34m(\u001b[0m\u001b[0minput\u001b[0m\u001b[0;34m(\u001b[0m\u001b[0;34m'Masukkan Jumlah Hewan: '\u001b[0m\u001b[0;34m)\u001b[0m\u001b[0;34m)\u001b[0m\u001b[0;34m\u001b[0m\u001b[0;34m\u001b[0m\u001b[0m\n\u001b[0m\u001b[1;32m      3\u001b[0m \u001b[0;31m#berat_hewan = float(input('Masukkan Berat Total Hewan:'))\u001b[0m\u001b[0;34m\u001b[0m\u001b[0;34m\u001b[0m\u001b[0m\n\u001b[1;32m      4\u001b[0m \u001b[0;31m#apakah_hewan_makan_rumput = bool(input('Apakah Hewan Makan Rumput?'))\u001b[0m\u001b[0;34m\u001b[0m\u001b[0;34m\u001b[0m\u001b[0m\n",
            "\u001b[0;31mValueError\u001b[0m: invalid literal for int() with base 10: 'Ya'"
          ]
        }
      ]
    },
    {
      "cell_type": "code",
      "source": [
        "print(nama_hewan)\n",
        "print(jumlah_hewan)\n",
        "\n",
        "# By default tipe data dari input adalah string\n",
        "print(type(nama_hewan))\n",
        "print(type(jumlah_hewan))"
      ],
      "metadata": {
        "colab": {
          "base_uri": "https://localhost:8080/"
        },
        "id": "l6PAjSz3Y4-j",
        "outputId": "99642458-bbc6-4a26-a5c8-0eca1b5a504e"
      },
      "execution_count": null,
      "outputs": [
        {
          "output_type": "stream",
          "name": "stdout",
          "text": [
            "Sapi\n",
            "8\n",
            "<class 'str'>\n",
            "<class 'int'>\n"
          ]
        }
      ]
    },
    {
      "cell_type": "code",
      "source": [
        "# Operasi Aritmatika (Integer / Float)\n",
        "\n",
        "a = 5\n",
        "b = 2\n",
        "\n",
        "# 1. Penambahan\n",
        "c = a + b\n",
        "print(c)\n",
        "\n",
        "# 2. Pengurangan\n",
        "c = a - b\n",
        "print(c)\n",
        "\n",
        "# 3. Perkalian\n",
        "c = a * b\n",
        "print(c)\n",
        "\n",
        "# 4. Pembagian\n",
        "c = a / b\n",
        "print(c)\n",
        "\n",
        "# 5. Pembagian tapi hasilnya bilangan bulat -> dibuletin kebawah\n",
        "c = a // b\n",
        "print(c)\n",
        "\n",
        "# 6. Pangkat (Exponensial)\n",
        "c = a ** b\n",
        "print(c)\n",
        "\n",
        "# 7. Modulus\n",
        "c = a % b\n",
        "print(c)\n"
      ],
      "metadata": {
        "colab": {
          "base_uri": "https://localhost:8080/"
        },
        "id": "hes8lxeccGPH",
        "outputId": "65cac0e5-5a8d-4869-9b59-724ecac4219b"
      },
      "execution_count": null,
      "outputs": [
        {
          "output_type": "stream",
          "name": "stdout",
          "text": [
            "7\n",
            "3\n",
            "10\n",
            "2.5\n",
            "2\n",
            "25\n",
            "1\n"
          ]
        }
      ]
    },
    {
      "cell_type": "code",
      "source": [
        "# Urutan Eksekusi\n",
        "# 1. Kurung ()\n",
        "# 2. Pangkat\n",
        "# 3. Kali, Bagi, Modulus\n",
        "# 4. Tambah, Kurang"
      ],
      "metadata": {
        "id": "bOXZQfn3gQxo"
      },
      "execution_count": null,
      "outputs": []
    },
    {
      "cell_type": "code",
      "source": [
        "# Menghitung Luas Bangun Datar Persegi Panjang"
      ],
      "metadata": {
        "id": "jz4ZJSKGg1HN"
      },
      "execution_count": null,
      "outputs": []
    },
    {
      "cell_type": "code",
      "source": [
        "# Meminta Panjang dari User\n",
        "panjang = float(input('Masukkan Panjang Bangun Datar: '))\n",
        "\n",
        "# Meminta Lebar dari User\n",
        "lebar = int(input('Masukkan Lebar Bangun Datar: '))\n",
        "\n",
        "# Masukkan Luas ke Variable Luas\n",
        "luas = panjang * lebar\n",
        "\n",
        "# Cetak luas\n",
        "print(\"Luas Persegi Panjang:\", luas)"
      ],
      "metadata": {
        "colab": {
          "base_uri": "https://localhost:8080/"
        },
        "id": "hMvfAPu8g8q-",
        "outputId": "606423f5-1542-40d2-9002-7a8133c5a2ed"
      },
      "execution_count": null,
      "outputs": [
        {
          "output_type": "stream",
          "name": "stdout",
          "text": [
            "Masukkan Panjang Bangun Datar: 3.14\n",
            "Masukkan Lebar Bangun Datar: 5\n",
            "Luas Persegi Panjang: 15.700000000000001\n"
          ]
        }
      ]
    },
    {
      "cell_type": "code",
      "source": [
        "print(bool(6.0))"
      ],
      "metadata": {
        "colab": {
          "base_uri": "https://localhost:8080/"
        },
        "id": "ew30_5jSmT07",
        "outputId": "d5d66f1f-7f7c-4777-9281-aec9dfc44ad7"
      },
      "execution_count": null,
      "outputs": [
        {
          "output_type": "stream",
          "name": "stdout",
          "text": [
            "True\n"
          ]
        }
      ]
    }
  ]
}