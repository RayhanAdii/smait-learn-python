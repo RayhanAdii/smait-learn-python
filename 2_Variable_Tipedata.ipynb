{
  "nbformat": 4,
  "nbformat_minor": 0,
  "metadata": {
    "colab": {
      "provenance": []
    },
    "kernelspec": {
      "name": "python3",
      "display_name": "Python 3"
    },
    "language_info": {
      "name": "python"
    }
  },
  "cells": [
    {
      "cell_type": "code",
      "execution_count": null,
      "metadata": {
        "colab": {
          "base_uri": "https://localhost:8080/"
        },
        "id": "Jn04fqewR_Mn",
        "outputId": "8204cf2b-0c5a-4615-89d2-119da8ab8d02"
      },
      "outputs": [
        {
          "output_type": "stream",
          "name": "stdout",
          "text": [
            "Hello\n"
          ]
        }
      ],
      "source": [
        "print(\"Hello\")"
      ]
    },
    {
      "cell_type": "code",
      "source": [
        "#Cetak dalam console ( print kalimat) \"Saya wibu dan saya bangga\"\n",
        "print(\"Saya wibu dan saya bangga\")"
      ],
      "metadata": {
        "colab": {
          "base_uri": "https://localhost:8080/"
        },
        "id": "hJscJ6jESmY6",
        "outputId": "37d933ed-8edb-4cde-e9d7-df66e32277b4"
      },
      "execution_count": null,
      "outputs": [
        {
          "output_type": "stream",
          "name": "stdout",
          "text": [
            "Saya wibu dan saya bangga\n"
          ]
        }
      ]
    },
    {
      "cell_type": "code",
      "source": [
        "print(\"jumlah: \", \"tiga\")"
      ],
      "metadata": {
        "colab": {
          "base_uri": "https://localhost:8080/"
        },
        "id": "swk76q2ST_B8",
        "outputId": "1159e421-611f-4dc9-878a-448f1092b2e4"
      },
      "execution_count": null,
      "outputs": [
        {
          "output_type": "stream",
          "name": "stdout",
          "text": [
            "jumlah: ,tiga\n"
          ]
        }
      ]
    },
    {
      "cell_type": "code",
      "source": [
        "# Men-assign (memberi nilai) pada variable)\n",
        "x = 5\n",
        "harga = 10000\n",
        "nama = 'budi'\n",
        "\n",
        "#Memanggil variable\n",
        "print(\"Nilai x: \",x )\n",
        "print(\"Harga: \", harga)\n",
        "print(\"nama: \", nama)\n",
        "\n",
        "# Mengganti nilai dari variable\n",
        "x = 10\n",
        "print(\"Nilai x: \",x )\n",
        "\n",
        "#Tidak bisa menggunakan spasi untuk nama variable\n",
        "nama_orang = 'budi basudara'\n",
        "#Tidak bisa menggunakan angka didepan untuk nama variable\n",
        "orang10 = 10\n",
        "# Tidak bisa menggunakan reserved word\n",
        "print1 = 10\n",
        "\n",
        "y = x\n",
        "print(\"Nilai y:\", y)\n",
        "\n",
        "x = 3\n",
        "print(\"Nilai y:\", y)"
      ],
      "metadata": {
        "colab": {
          "base_uri": "https://localhost:8080/"
        },
        "id": "1YHVdyX8VAN7",
        "outputId": "896c2c4f-3480-4260-e50f-29acf697bdbd"
      },
      "execution_count": null,
      "outputs": [
        {
          "output_type": "stream",
          "name": "stdout",
          "text": [
            "Nilai x:  5\n",
            "Harga:  10000\n",
            "nama:  budi\n",
            "Nilai x:  10\n",
            "Nilai y: 10\n",
            "Nilai y: 10\n"
          ]
        }
      ]
    },
    {
      "cell_type": "code",
      "source": [
        "# Tipe Data integer / bilangan bulat\n",
        "tipedata_int = 100\n",
        "print(type(tipedata_int))\n",
        "\n",
        "# Tipe Data Bilangan Desimal / float\n",
        "tipedata_float = 3.14\n",
        "print(type(tipedata_float))\n",
        "\n",
        "#Tipe Data String (kumpulan kata)\n",
        "tipedata_string = 'Haaloo'\n",
        "print(type(tipedata_string))\n",
        "\n",
        "#Tipe Data Boolean (biner) True / False\n",
        "tipedata_boolean = True\n",
        "print(type(tipedata_boolean))"
      ],
      "metadata": {
        "colab": {
          "base_uri": "https://localhost:8080/"
        },
        "id": "aVsMkRACVTNG",
        "outputId": "545d8946-8f2c-4a78-9931-6634db8c3cd2"
      },
      "execution_count": null,
      "outputs": [
        {
          "output_type": "stream",
          "name": "stdout",
          "text": [
            "<class 'int'>\n",
            "<class 'float'>\n",
            "<class 'str'>\n",
            "<class 'bool'>\n"
          ]
        }
      ]
    },
    {
      "cell_type": "code",
      "source": [
        "#Casting tipe data\n",
        "\n",
        "harga = '10000'\n",
        "print(harga, type(harga))\n",
        "\n",
        "#Mengubah ke int\n",
        "harga = int(harga)\n",
        "print(harga, type(harga))\n",
        "\n",
        "#Mengubah ke float\n",
        "harga = float(harga)\n",
        "print(harga, type(harga))\n",
        "\n",
        "#Mengubah ke string\n",
        "harga = str(harga)\n",
        "print(harga, type(harga))\n",
        "\n",
        "# Warning mengubah float ke int -- bakal dibuletin kebawah\n",
        "tinggi = 126.9\n",
        "tinggi = int(tinggi)\n",
        "print(tinggi, type(tinggi))"
      ],
      "metadata": {
        "colab": {
          "base_uri": "https://localhost:8080/"
        },
        "id": "oWITGE7tbnm7",
        "outputId": "c5e1d865-e718-4b01-a36d-d420b3f44f00"
      },
      "execution_count": null,
      "outputs": [
        {
          "output_type": "stream",
          "name": "stdout",
          "text": [
            "10000 <class 'str'>\n",
            "10000 <class 'int'>\n",
            "10000.0 <class 'float'>\n",
            "10000.0 <class 'str'>\n",
            "126 <class 'int'>\n"
          ]
        }
      ]
    },
    {
      "cell_type": "code",
      "source": [
        "# Buat variable Nama, kelas, umur, pilihan_ketua, pilihan_sekre, pilihan_benda\n",
        "# Terus diprint\n",
        "# Nafis minat jadi sekre, jd pilihlah :3\n",
        "#\n"
      ],
      "metadata": {
        "id": "taGsMqz9eEEh"
      },
      "execution_count": null,
      "outputs": []
    },
    {
      "cell_type": "code",
      "source": [
        "nama = 'rayhan'\n",
        "kelas = '12E1'\n",
        "umur = 21\n",
        "pilihan_ketua = 'Apel'\n",
        "pilihan_sekre = 'Budi'\n",
        "pilihan_benda = \"Cici\"\n",
        "print(nama)\n",
        "print(kelas)\n",
        "print(umur)\n",
        "print(pilihan_ketua)\n",
        "print(pilihan_sekre)\n",
        "print(pilihan_benda)"
      ],
      "metadata": {
        "colab": {
          "base_uri": "https://localhost:8080/"
        },
        "id": "NknzWrvqeRt-",
        "outputId": "d375ce9d-1fca-48fd-812f-49422549b9c0"
      },
      "execution_count": null,
      "outputs": [
        {
          "output_type": "stream",
          "name": "stdout",
          "text": [
            "rayhan\n",
            "12E1\n",
            "21\n",
            "Apel\n",
            "Budi\n",
            "Cici\n"
          ]
        }
      ]
    }
  ]
}