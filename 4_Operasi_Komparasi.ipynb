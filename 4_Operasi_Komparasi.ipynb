{
  "nbformat": 4,
  "nbformat_minor": 0,
  "metadata": {
    "colab": {
      "provenance": []
    },
    "kernelspec": {
      "name": "python3",
      "display_name": "Python 3"
    },
    "language_info": {
      "name": "python"
    }
  },
  "cells": [
    {
      "cell_type": "code",
      "execution_count": null,
      "metadata": {
        "colab": {
          "base_uri": "https://localhost:8080/"
        },
        "id": "hC-fegC1ZOhs",
        "outputId": "c7c491ab-af28-43f2-8ac0-05c07809c6d6"
      },
      "outputs": [
        {
          "output_type": "stream",
          "name": "stdout",
          "text": [
            "Masukkan Panjang Bangun:15\n",
            "Masukkan Lebar Bangun:12\n",
            "Keliling Bangun: 54.0\n"
          ]
        }
      ],
      "source": [
        "panjang = float(input('Masukkan Panjang Bangun:'))\n",
        "lebar = float(input('Masukkan Lebar Bangun:'))\n",
        "\n",
        "keliling = 2 * (panjang + lebar)\n",
        "\n",
        "print('Keliling Bangun:',keliling)"
      ]
    },
    {
      "cell_type": "code",
      "source": [
        "# Operator Komparasi\n",
        "\n",
        "# Contoh variable dengan tipe data boolean\n",
        "a = True\n",
        "b = False"
      ],
      "metadata": {
        "id": "3f3V9w6kcOQN"
      },
      "execution_count": null,
      "outputs": []
    },
    {
      "cell_type": "code",
      "source": [
        "# Operator sama dengan ==\n",
        "c = 10\n",
        "d = 7\n",
        "\n",
        "print(c == d)\n",
        "\n",
        "# kurang dari <\n",
        "print(c < d)\n",
        "\n",
        "# lebih dari >\n",
        "print(c > d)\n",
        "\n",
        "e = 10\n",
        "f = 12\n",
        "g = 12\n",
        "# kurang dari sama dengan <=\n",
        "print(\"e <= f\", e <= f)\n",
        "print(\"f <= g\", f <= g)\n",
        "print(\"f < g\", f < g)\n",
        "\n",
        "# lebih dari sama dengan >=\n",
        "print(e >= f)"
      ],
      "metadata": {
        "colab": {
          "base_uri": "https://localhost:8080/"
        },
        "id": "jTwXpOlCc_zF",
        "outputId": "2b9fd5fc-c73f-4b2c-fd00-64a775f83a9e"
      },
      "execution_count": null,
      "outputs": [
        {
          "output_type": "stream",
          "name": "stdout",
          "text": [
            "False\n",
            "True\n",
            "e <= f True\n",
            "f <= g True\n",
            "f < g False\n",
            "False\n"
          ]
        }
      ]
    },
    {
      "cell_type": "code",
      "source": [
        "# Percabangan\n",
        "\n",
        "nama = \"Doni\"\n",
        "\n",
        "if nama == \"Andi\":\n",
        "  print('Halo Andi')\n",
        "\n",
        "if nama == \"Doni\":\n",
        "  print('Halo Doni')\n",
        "\n",
        "print('Program selesai')"
      ],
      "metadata": {
        "colab": {
          "base_uri": "https://localhost:8080/"
        },
        "id": "plQNIBw1i0yR",
        "outputId": "9fae231a-6f16-42f6-da00-116763dbf222"
      },
      "execution_count": null,
      "outputs": [
        {
          "output_type": "stream",
          "name": "stdout",
          "text": [
            "Halo Doni\n",
            "Program selesai\n"
          ]
        }
      ]
    },
    {
      "cell_type": "code",
      "source": [
        "hewan = \"Gajah\"\n",
        "\n",
        "if hewan == \"Kucing\":\n",
        "  print(\"Meong\")\n",
        "elif hewan == \"Anjing\":\n",
        "  print(\"Gukguk\")\n",
        "elif hewan == \"Tikus\":\n",
        "  print(\"Citcit\")\n",
        "else:\n",
        "  print(\"Bukan Meong Bukan Gukguk\")\n"
      ],
      "metadata": {
        "colab": {
          "base_uri": "https://localhost:8080/"
        },
        "id": "Dhz1kH6ujsEH",
        "outputId": "81be68f1-2630-469b-e0ef-f505e0f8f40f"
      },
      "execution_count": null,
      "outputs": [
        {
          "output_type": "stream",
          "name": "stdout",
          "text": [
            "Bukan Meong Bukan Gukguk\n"
          ]
        }
      ]
    },
    {
      "cell_type": "code",
      "source": [
        "# Program Ganjil Genap\n",
        "\n",
        "angka = int(input(\"Masukkan Angka:\"))\n",
        "\n",
        "if angka % 2 == 0 :\n",
        "  print(\"Angka yang anda masukkan adalah genap\")\n",
        "else:\n",
        "  print(\"Angka yang anda masukkan adalah ganjil\")"
      ],
      "metadata": {
        "colab": {
          "base_uri": "https://localhost:8080/"
        },
        "id": "LX0q1YRxlK9B",
        "outputId": "b382af86-81d7-4581-b47c-e514d5975ef5"
      },
      "execution_count": null,
      "outputs": [
        {
          "output_type": "stream",
          "name": "stdout",
          "text": [
            "Masukkan Angka4\n",
            "Angka yang anda masukkan adalah genap\n"
          ]
        }
      ]
    }
  ]
}