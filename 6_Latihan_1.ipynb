{
  "nbformat": 4,
  "nbformat_minor": 0,
  "metadata": {
    "colab": {
      "provenance": []
    },
    "kernelspec": {
      "name": "python3",
      "display_name": "Python 3"
    },
    "language_info": {
      "name": "python"
    }
  },
  "cells": [
    {
      "cell_type": "markdown",
      "source": [
        "# Kasus 1: Apakah saya lulus?\n",
        "\n",
        "Gojou-Sensei ingin membuat program untuk menghitung rerata nilai murid muridnya dan menentukan apakah muridnya lulus atau tidak. Bantulah Gojou-Sensei untuk membuat program tersebut!\n",
        "\n",
        "- Mata pelajaran yang akan dihitung reratanya adalah Mata pelajaran bahasa_indonesia, matematika, dan ipa.\n",
        "- Agar lulus, seorang murid harus memiliki rata-rata nilai paling rendah 75\n",
        "\n",
        "\n",
        "Note: Ganti ___ menjadi kode yang benar!"
      ],
      "metadata": {
        "id": "TIE9wWQ8RHGc"
      }
    },
    {
      "cell_type": "code",
      "execution_count": null,
      "metadata": {
        "id": "E0XjscrdCAhx"
      },
      "outputs": [],
      "source": [
        "# Pertama, ambil input user berupa nama siswa\n",
        "nama_siswa = ___\n",
        "\n",
        "# Selanjutnya, ambil input user berupa nilai bahasa_indonesia, matematika, dan ipa kedalam variable berikut\n",
        "nilai_bahasa_indonesia = ___\n",
        "nilai_matematika = ___\n",
        "nilai_ipa = ___\n",
        "\n",
        "# Setelah itu, hitung rerata nilainya menggunakan rumus rata-rata\n",
        "rata_rata = ___\n",
        "\n",
        "# Print nama siswa dan rata-rata\n",
        "print('nama siswa: ', nama_siswa)\n",
        "print('rata rata: ', rata_rata)\n",
        "\n",
        "# Terakhir, tentukan apakah murid tersebut lulus atau tidak\n",
        "# Jika rata_rata lebih dari 75, print \"Murid ini Lulus\"\n",
        "# Selain itu, print \"Murid ini tidak lulus\"\n",
        "if ___ :\n",
        "  ___\n",
        "else:\n",
        "  ___"
      ]
    },
    {
      "cell_type": "markdown",
      "source": [
        "# Kasus 2: Ibu pergi ke pasar"
      ],
      "metadata": {
        "id": "Zg7AmFOYXnnZ"
      }
    },
    {
      "cell_type": "markdown",
      "source": [
        "Ibu ingin membuat list belanjaannya di python. Ikuti tahapannya dan bantu Ibu mendapatkan hasil yang diinginkan!"
      ],
      "metadata": {
        "id": "N5I6YDWhYnw3"
      }
    },
    {
      "cell_type": "code",
      "source": [
        "# Pertama, buatlah sebuah list bernama \"belanjaan\" dengan isi 5 variable berikut:\n",
        "# Ikan, Sawi, Garam, Gula, Wortel\n",
        "\n",
        "belanjaan = [___, ___, ___, ___, ___]\n",
        "\n",
        "# Tiba tiba adik titip coklat, tambahkan coklat kedalam list tersebut menggunakan .append()\n",
        "___\n",
        "\n",
        "# Kemudian, ibu baru sadar bahwa gula dirumah masih ada banyak. Hapus Gula dari list menggunakan .pop()\n",
        "___\n",
        "\n",
        "# Terakhir, print list tersebut serta jumlah belanjaan (panjang list)\n",
        "print(___)\n",
        "print(___)"
      ],
      "metadata": {
        "id": "OkhiZ-ZmVm_h"
      },
      "execution_count": null,
      "outputs": []
    }
  ]
}