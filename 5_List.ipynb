{
  "nbformat": 4,
  "nbformat_minor": 0,
  "metadata": {
    "colab": {
      "provenance": []
    },
    "kernelspec": {
      "name": "python3",
      "display_name": "Python 3"
    },
    "language_info": {
      "name": "python"
    }
  },
  "cells": [
    {
      "cell_type": "code",
      "execution_count": null,
      "metadata": {
        "id": "cas6tzdJdDve"
      },
      "outputs": [],
      "source": [
        "nama1 = 'a'\n",
        "nama2 = 'b'\n",
        "nama3 = 'c'\n",
        "nama4 = 'd'\n",
        "nama5 = 'e'"
      ]
    },
    {
      "cell_type": "code",
      "source": [
        "#Cara membuat List\n",
        "list_nama =['a', 'b', 'c', 'd', 'e']"
      ],
      "metadata": {
        "id": "5IrP3R0rfSQg"
      },
      "execution_count": null,
      "outputs": []
    },
    {
      "cell_type": "code",
      "source": [
        "#Mengeprint variable\n",
        "print(nama1)"
      ],
      "metadata": {
        "colab": {
          "base_uri": "https://localhost:8080/"
        },
        "id": "h15cfCLbfxwr",
        "outputId": "6e7663f2-386a-4e9b-82d7-f854d6ef0dc7"
      },
      "execution_count": null,
      "outputs": [
        {
          "output_type": "stream",
          "name": "stdout",
          "text": [
            "a\n"
          ]
        }
      ]
    },
    {
      "cell_type": "code",
      "source": [
        "# Print list secara utuh\n",
        "print(list_nama)"
      ],
      "metadata": {
        "colab": {
          "base_uri": "https://localhost:8080/"
        },
        "id": "A43UIXMXg1vA",
        "outputId": "7507c412-d9d6-40a2-8ccf-bd48123efc7f"
      },
      "execution_count": null,
      "outputs": [
        {
          "output_type": "stream",
          "name": "stdout",
          "text": [
            "['a', 'b', 'c', 'd', 'e']\n"
          ]
        }
      ]
    },
    {
      "cell_type": "code",
      "source": [
        "# Print salah satu elemen dari list\n",
        "print(list_nama[0])\n",
        "print(list_nama[1])"
      ],
      "metadata": {
        "colab": {
          "base_uri": "https://localhost:8080/"
        },
        "id": "xb7U6MlZgrdk",
        "outputId": "30986336-b3ba-4881-d2e5-fce2e7f99a8f"
      },
      "execution_count": null,
      "outputs": [
        {
          "output_type": "stream",
          "name": "stdout",
          "text": [
            "a\n",
            "b\n"
          ]
        }
      ]
    },
    {
      "cell_type": "code",
      "source": [
        "# Print salah satu elemen dari list dari belakang\n",
        "print(list_nama[-1])\n",
        "print(list_nama[-2])"
      ],
      "metadata": {
        "colab": {
          "base_uri": "https://localhost:8080/"
        },
        "id": "VSVHtqGFhSxn",
        "outputId": "92ed5a61-2094-482d-b730-a58dad685046"
      },
      "execution_count": null,
      "outputs": [
        {
          "output_type": "stream",
          "name": "stdout",
          "text": [
            "e\n",
            "d\n"
          ]
        }
      ]
    },
    {
      "cell_type": "code",
      "source": [
        "# print List baru yang isinya ['a','b','c']\n",
        "print(list_nama[0:3])\n",
        "print(list_nama[1:4])"
      ],
      "metadata": {
        "colab": {
          "base_uri": "https://localhost:8080/"
        },
        "id": "lmJjH9CNiL3X",
        "outputId": "d508abc7-16b1-4526-f1c2-c1b540924f1d"
      },
      "execution_count": null,
      "outputs": [
        {
          "output_type": "stream",
          "name": "stdout",
          "text": [
            "['a', 'b', 'c']\n",
            "['b', 'c', 'd']\n"
          ]
        }
      ]
    },
    {
      "cell_type": "code",
      "source": [
        "# fungsi len() untuk mengetahui jumlah elemen dalam list\n",
        "\n",
        "print(len(list_nama))"
      ],
      "metadata": {
        "colab": {
          "base_uri": "https://localhost:8080/"
        },
        "id": "YP_KDWDxjPrR",
        "outputId": "16d93829-b805-4428-c639-ba657d80a129"
      },
      "execution_count": null,
      "outputs": [
        {
          "output_type": "stream",
          "name": "stdout",
          "text": [
            "5\n"
          ]
        }
      ]
    },
    {
      "cell_type": "code",
      "source": [
        "# fungsi .append() untuk menambah elemen ke list yang sudah ada\n",
        "\n",
        "print(list_nama)\n",
        "\n",
        "list_nama.append('f')\n",
        "\n",
        "print(list_nama)"
      ],
      "metadata": {
        "colab": {
          "base_uri": "https://localhost:8080/"
        },
        "id": "T1msDYRZj9ja",
        "outputId": "139f6f08-a056-4d33-8d38-f5a049e4a76e"
      },
      "execution_count": null,
      "outputs": [
        {
          "output_type": "stream",
          "name": "stdout",
          "text": [
            "['a', 'b', 'c', 'd', 'e']\n",
            "['a', 'b', 'c', 'd', 'e', 'f']\n"
          ]
        }
      ]
    },
    {
      "cell_type": "code",
      "source": [
        "# fungsi .pop() untuk menghapus elemen dari list yang sudah ada\n",
        "\n",
        "print(list_nama)\n",
        "\n",
        "# Menghapus elemen 'b' -> menghapus index 1\n",
        "list_nama.pop(1)\n",
        "\n",
        "print(list_nama)"
      ],
      "metadata": {
        "colab": {
          "base_uri": "https://localhost:8080/"
        },
        "id": "9n14QZa2k7vD",
        "outputId": "9bfcd331-1891-4ffb-8727-55af8f7dd561"
      },
      "execution_count": null,
      "outputs": [
        {
          "output_type": "stream",
          "name": "stdout",
          "text": [
            "['a', 'b', 'c', 'd', 'e', 'f']\n",
            "['a', 'c', 'd', 'e', 'f']\n"
          ]
        }
      ]
    },
    {
      "cell_type": "code",
      "source": [
        "# Mengupdate elemen di list\n",
        "print(list_nama)\n",
        "\n",
        "#mengubah huruf 'c' menjadi 'z'\n",
        "list_nama[1] = 'z'\n",
        "\n",
        "print(list_nama)"
      ],
      "metadata": {
        "colab": {
          "base_uri": "https://localhost:8080/"
        },
        "id": "K28efTUsmDhZ",
        "outputId": "de199be2-4b5e-451b-9762-898251e52df5"
      },
      "execution_count": null,
      "outputs": [
        {
          "output_type": "stream",
          "name": "stdout",
          "text": [
            "['a', 'c', 'd', 'e', 'f']\n",
            "['a', 'z', 'd', 'e', 'f']\n"
          ]
        }
      ]
    },
    {
      "cell_type": "code",
      "source": [
        "# .sort() untuk mengurutkan elemen\n",
        "\n",
        "print(list_nama)\n",
        "\n",
        "#Mengurutkan elemen\n",
        "list_nama.sort()\n",
        "\n",
        "print(list_nama)\n"
      ],
      "metadata": {
        "colab": {
          "base_uri": "https://localhost:8080/"
        },
        "id": "pb1XOYARms8i",
        "outputId": "262b9832-27bc-44e6-b620-e094a45d1de1"
      },
      "execution_count": null,
      "outputs": [
        {
          "output_type": "stream",
          "name": "stdout",
          "text": [
            "['a', 'z', 'd', 'e', 'f']\n",
            "['a', 'd', 'e', 'f', 'z']\n"
          ]
        }
      ]
    },
    {
      "cell_type": "code",
      "source": [
        "# Menghitung suatu elemen muncul berapa kali\n",
        "\n",
        "list_nama_2 = ['a','a','b','b','b','c']\n",
        "\n",
        "print(list_nama_2.count('a'))"
      ],
      "metadata": {
        "colab": {
          "base_uri": "https://localhost:8080/"
        },
        "id": "zI7NDZFfnIjz",
        "outputId": "e953a896-08c1-46b9-99bc-81bdc02673b8"
      },
      "execution_count": null,
      "outputs": [
        {
          "output_type": "stream",
          "name": "stdout",
          "text": [
            "2\n"
          ]
        }
      ]
    }
  ]
}