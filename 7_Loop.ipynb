{
  "nbformat": 4,
  "nbformat_minor": 0,
  "metadata": {
    "colab": {
      "provenance": []
    },
    "kernelspec": {
      "name": "python3",
      "display_name": "Python 3"
    },
    "language_info": {
      "name": "python"
    }
  },
  "cells": [
    {
      "cell_type": "code",
      "execution_count": null,
      "metadata": {
        "colab": {
          "base_uri": "https://localhost:8080/"
        },
        "id": "0sAOfZLoorpH",
        "outputId": "11a9e066-83a4-4fc6-dae9-ff1b4f6a81ca"
      },
      "outputs": [
        {
          "output_type": "stream",
          "name": "stdout",
          "text": [
            "1\n",
            "2\n",
            "3\n",
            "4\n",
            "5\n"
          ]
        }
      ],
      "source": [
        "# looping\n",
        "\n",
        "print(1)\n",
        "print(2)\n",
        "print(3)\n",
        "print(4)\n",
        "print(5)"
      ]
    },
    {
      "cell_type": "code",
      "source": [
        "angka = 1\n",
        "print(angka)\n",
        "angka += 1\n",
        "print(angka)\n",
        "angka += 1\n",
        "print(angka)\n",
        "angka += 1\n",
        "print(angka)\n",
        "angka += 1\n",
        "print(angka)"
      ],
      "metadata": {
        "colab": {
          "base_uri": "https://localhost:8080/"
        },
        "id": "VAskWYaxp3ar",
        "outputId": "69bc3491-10f5-4ee5-f4bd-e5dd09e9006e"
      },
      "execution_count": null,
      "outputs": [
        {
          "output_type": "stream",
          "name": "stdout",
          "text": [
            "1\n",
            "2\n",
            "3\n",
            "4\n",
            "5\n"
          ]
        }
      ]
    },
    {
      "cell_type": "code",
      "source": [
        "# For loop\n",
        "\n",
        "# for namaVariable in List:\n",
        "  #Perintah\n",
        "\n",
        "#for i in range(5):\n",
        "  #print(i)\n",
        "\n",
        "#for i in range(3,7):\n",
        "  #print(i)\n",
        "\n",
        "listAngka = [2,4,6,8,10]\n",
        "\n",
        "# for angka in listAngka:\n",
        "#   print(angka)\n",
        "\n",
        "# angka = 2\n",
        "# for i in range(5):\n",
        "#   angka += 1\n",
        "# print(angka)\n",
        "\n",
        "# listHewan = ['Kucing','Kelinci','Beruang']\n",
        "\n",
        "# for hewan in listHewan:\n",
        "#   print(\"nama hewan: \", hewan)\n",
        "\n",
        "# Jumlahkan angka 1 sampai 10\n",
        "jumlah = 0\n",
        "for i in range(1,11):\n",
        "  jumlah += i\n",
        "print(jumlah)"
      ],
      "metadata": {
        "colab": {
          "base_uri": "https://localhost:8080/"
        },
        "id": "NOhCUkEjqKpr",
        "outputId": "071ce025-4b00-48d6-d470-69ee1b0ca192"
      },
      "execution_count": null,
      "outputs": [
        {
          "output_type": "stream",
          "name": "stdout",
          "text": [
            "55\n"
          ]
        }
      ]
    },
    {
      "cell_type": "code",
      "source": [
        "# While Loop\n",
        "\n",
        "angka = 1\n",
        "while angka <= 100:\n",
        "  print(angka)\n",
        "  angka += angka"
      ],
      "metadata": {
        "colab": {
          "base_uri": "https://localhost:8080/"
        },
        "id": "5jFqzR39u0dc",
        "outputId": "81d11e00-de0e-467d-8321-4f22e83a35a5"
      },
      "execution_count": null,
      "outputs": [
        {
          "output_type": "stream",
          "name": "stdout",
          "text": [
            "1\n",
            "2\n",
            "4\n",
            "8\n",
            "16\n",
            "32\n",
            "64\n"
          ]
        }
      ]
    },
    {
      "cell_type": "code",
      "source": [
        "# continue\n",
        "# break\n",
        "\n",
        "angka = 5\n",
        "while angka <= 10:\n",
        "  print(angka)\n"
      ],
      "metadata": {
        "colab": {
          "base_uri": "https://localhost:8080/"
        },
        "id": "EdmL2AyPxwYs",
        "outputId": "0ce0a067-da4b-44f8-c1c4-e24f2ab2a90e"
      },
      "execution_count": null,
      "outputs": [
        {
          "output_type": "stream",
          "name": "stdout",
          "text": [
            "5\n"
          ]
        }
      ]
    },
    {
      "cell_type": "code",
      "source": [
        "# Program\n",
        "# Ada list angka 1-10\n",
        "# Kalau genap, continu\n",
        "# lalu print i\n",
        "\n",
        "for i in range(1,10):\n",
        "  # Jika Genap\n",
        "  if i % 2 == 0:\n",
        "    continue\n",
        "  print(i)\n",
        "\n",
        "listBinatang =['Angsa','Burung','Cicak','Elang']\n",
        "for binatang in listBinatang:\n",
        "  if binatang == 'Cicak':\n",
        "    continue\n",
        "  print(binatang)"
      ],
      "metadata": {
        "colab": {
          "base_uri": "https://localhost:8080/"
        },
        "id": "SOCKbGAayEfD",
        "outputId": "ddcf7878-3e64-4569-9f44-40126cdc8705"
      },
      "execution_count": null,
      "outputs": [
        {
          "output_type": "stream",
          "name": "stdout",
          "text": [
            "1\n",
            "3\n",
            "5\n",
            "7\n",
            "9\n",
            "Angsa\n",
            "Burung\n",
            "Elang\n"
          ]
        }
      ]
    },
    {
      "cell_type": "code",
      "source": [
        "angka = 0\n",
        "for i in range(10):\n",
        "  print(angka)\n",
        "  angka += 1\n",
        "  if angka == 7:\n",
        "    break"
      ],
      "metadata": {
        "colab": {
          "base_uri": "https://localhost:8080/"
        },
        "id": "b2EkA9nizTqe",
        "outputId": "2faca058-ba8d-439f-812c-18304f17933f"
      },
      "execution_count": null,
      "outputs": [
        {
          "output_type": "stream",
          "name": "stdout",
          "text": [
            "0\n",
            "1\n",
            "2\n",
            "3\n",
            "4\n",
            "5\n",
            "6\n"
          ]
        }
      ]
    }
  ]
}